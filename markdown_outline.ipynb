{
 "cells": [
  {
   "cell_type": "markdown",
   "metadata": {},
   "source": [
    "# The Evolution of Proboscidea\n",
    "\n",
    "\n",
    "\n",
    "\n",
    "![badge1](proboscidea_by_iririv-d6yi847.jpg)\n",
    "\n"
   ]
  },
  {
   "cell_type": "markdown",
   "metadata": {},
   "source": [
    "### Introduction\n",
    "\n",
    "** Write introduction **"
   ]
  },
  {
   "cell_type": "markdown",
   "metadata": {},
   "source": [
    "### Method\n",
    "\n",
    "In this project, many data will be used to produce figures. Occurance data, early appearance and late apperance, genus and species name would be used in constructing figures.\n",
    "\n",
    "1. Species or genus would be used to construct a graph showing how many species lived at each particular time(would probably use genus instead of species since Proboscidea have 2952 number of unique species). This graph would probably in form of bar graph.\n",
    "\n",
    "2. Another graph will be showing how long each family lived (aka stratigraphic record). In this graph, both ealy appearance and late appearance will be used.\n",
    "\n",
    "3. Occurance data would be used in plot in python and these data would be used to calculate rates of extinction or speciation rates\n",
    "\n",
    "Overall, three graphs would be made to understand the data\n",
    "\n",
    "*Graphs will also be made using Rstudio*"
   ]
  },
  {
   "cell_type": "markdown",
   "metadata": {},
   "source": []
  },
  {
   "cell_type": "markdown",
   "metadata": {},
   "source": [
    "### Codes that used in this project\n"
   ]
  },
  {
   "cell_type": "code",
   "execution_count": 1,
   "metadata": {
    "collapsed": false
   },
   "outputs": [],
   "source": [
    "## open the file\n",
    "\n",
    "infile = \"/home/eeb177-student/Desktop/eeb-177/eeb-177-final-project/data_file/occurence_graph/newly_formatted_data.csv\"\n",
    "with open(infile, 'r') as ff:\n",
    "    proboscidea_recs = ff.readlines()\n",
    "    "
   ]
  },
  {
   "cell_type": "code",
   "execution_count": 2,
   "metadata": {
    "collapsed": false
   },
   "outputs": [],
   "source": [
    "# use defauldict\n",
    "from collections import defaultdict\n",
    "\n",
    "species_ranges = defaultdict(list)\n",
    "\n",
    "# make a dictionary\n",
    "\n",
    "for line in proboscidea_recs:\n",
    "    species = line.split('\",\"')[5]\n",
    "    minage = line.split('\",\"')[10]\n",
    "    maxage = line.split('\",\"')[11]\n",
    "    mean_age = (float(minage)+float(maxage))/2\n",
    "    species_ranges[species].append(minage) #add species as keys and mean ages as elements to the list of ages\n",
    "    species_ranges[species].append(maxage)\n",
    "    "
   ]
  },
  {
   "cell_type": "code",
   "execution_count": 4,
   "metadata": {
    "collapsed": false
   },
   "outputs": [],
   "source": [
    "output = open(\"/home/eeb177-student/Desktop/eeb-177/eeb-177-final-project/data_file/occurence_graph/manipulated-data.csv\",\"w\")\n",
    "\n",
    "for key in sorted(species_ranges.keys()):\n",
    "    ages = species_ranges[key]\n",
    "    min_age = min(ages)\n",
    "    max_age = max(ages)\n",
    "    genus = key.split(\" \")[0]\n",
    "    species = key\n",
    "    #print(genus,species, max_age,min_age)\n",
    "    #outline = \"{},{},{},{}\\n\".format(genus, species, max_age, min_age)\n",
    "    #output.write(outline)\n",
    "    #output.close\n",
    "    "
   ]
  },
  {
   "cell_type": "markdown",
   "metadata": {},
   "source": [
    "### Generating extinction, speciation, and diversitification graphs through shell\n",
    "\n",
    "** Steps I did in the shell in order to generate graphs:**\n",
    "1. Download data using wget and name it proboscidea.csv (wget -O proboscidea.csv \"https://paleobiodb.org/data1.2/occs/list.csv?base_name=proboscidea&show=acconly\") \n",
    "\n",
    "2. Reformat data using R script so PyRate can use it \n",
    "\n",
    "    *Extanct species were derived from PBDB-taxa data:*\n",
    "\n",
    "        \"Psylla saliceti\", \"Psylla cotoneasteris\", \"Psylla klapaleki\", \"Psylla abdominalis\", \"Psylla vasiljevi\", \"Psylla pulchra\", \"Psylla medicaginis\", \"Psylla ulmi\", \"Psylla rhombifera\", \"Psylla sorbi\", \"Psylla praevia\", \"Psylla abietis\", \"Psylla propinqua\", \"Psylla moscovita\", \"Cacopsylla sorbi\", \"Trioza salicivora\", \"Trioza centranthi\", \"Trioza magnisetosa\", \"Trioza cinnamomi\", \"Trioza striola\", \"Longistigma caryae\", \"Chaitophorus salijaponicus\", \"Tibicina haematodes\", \"Tibicen japonicus\", \"Terpnosia vacua\", \"Yezoterpnosia nigricosta\", \"Cicada orni\", \"Cicada viridis\", \"Strongylocephalus agrestis\", \"Aphrodes bifasciatus\", \"Deltocephalus ocellaris\", \"Cicadella viridis\", \"Pterodictya ephemera\", \"Eusarcoris (Rhacognathus) punctatus\", \"Carbula crassiventris\", \"Paleofroeschnerius magnus\", \"Hovatlas invaginatus\", \"Gitava fusca\", \"Cysteochila impressa\", \"Sigara (Callicorixa) producta\", \"Laccotrephes robustus\", \"Ranatra brevicollis\", \"Ranatra fusca\", \"Belostoma bakeri\", \"Lethocerus americanus\", \"Notonecta (Paranecta) unifasciata\", \"Saldula saltatoria\", \"Salda littoralis\"\n",
    "![badge3](r-script.png)\n",
    "\n",
    "3. Run the shell script taught by Gaurvask in class \n",
    "   \n",
    "   For the final project I used 982000 steps in the MCMC chain to run PyRate analysis (this took me over 12 hours)\n",
    "![badge4](shell-script.png)  \n",
    "\n",
    "4. Using the file generated *marginal_rates.log* we generate the PDF file of RTT (python ~/PyRate/PyRate.py -plot proboscidea_1_marginal_rates.log)\n"
   ]
  },
  {
   "cell_type": "markdown",
   "metadata": {},
   "source": [
    "### Figures\n",
    "\n",
    "![badge5](speciation.png)  \n",
    "![badge6](extinction.png)  \n",
    "![badge7](diversification.png)  \n",
    "\n"
   ]
  },
  {
   "cell_type": "markdown",
   "metadata": {
    "collapsed": false
   },
   "source": [
    "### References\n",
    "\n",
    "\n",
    "Antoini, P., Welcomme J., Marivaux L., Baloch I., Benammi M., and P. Tassy(2003) FIRST RECORD OF PALEOGENE ELEPHANTOIDEA (MAMMALIA, PROBOSCIDEA) FROM THE BUGTI HILLS OF PAKISTAN, Journal of Vertebrate Paleontology 23:4, 977-980. Accessed March 2, 2017. DOI:10.1671/2453-25.\n",
    "\n",
    "Aouadi, N.(2001) New data on the diversity of Elephants (Mammalia, Proboscidea) in the Early and early Middle Pleistocene of France, The World of Elephants - International Congress, Rome, 81-84 . Accessed March 2, 2017.\n",
    "\n",
    "Sánchez, B., Prado L. J., and M.T.. Alberdi(2004) Feeding ecology, dispersal, and extinction of South American Pleistocene gomphotheres (Gomphotheriidae, Proboscidea). Paleobiology, 30:1, 146-161. Accessed March 2, 2017. DOI:10.1666/0094-8373(2004)030.\n",
    "\n",
    "Shoshani, J., and P. Tassy(2005) Advances in proboscidean taxonomy & classification, anatomy &\n",
    "physiology, and ecology & behavior, Quaternary International, 126–128: 5–20. Accessed March 2, 2017. DOI:10.1016/j.quaint.2004.04.011.\n",
    "\n",
    "William J. Sanders (1999) Oldest record of Stegodon (Mammalia: Proboscidea), Journal of Vertebrate Paleontology, 19:4, 793-797, DOI:10.1080/02724634.1999.10011194"
   ]
  },
  {
   "cell_type": "markdown",
   "metadata": {
    "collapsed": true
   },
   "source": []
  }
 ],
 "metadata": {
  "anaconda-cloud": {},
  "kernelspec": {
   "display_name": "Python [default]",
   "language": "python",
   "name": "python3"
  },
  "language_info": {
   "codemirror_mode": {
    "name": "ipython",
    "version": 3
   },
   "file_extension": ".py",
   "mimetype": "text/x-python",
   "name": "python",
   "nbconvert_exporter": "python",
   "pygments_lexer": "ipython3",
   "version": "3.5.2"
  }
 },
 "nbformat": 4,
 "nbformat_minor": 2
}
