{
 "cells": [
  {
   "cell_type": "markdown",
   "metadata": {},
   "source": [
    "### Data Manipulation over a loop\n",
    "\n",
    "Both occurance data and species name would be used in constructing figures.\n",
    "\n",
    "1. Species name and time interval would be used to identify different families and would be plot in a time scale to show how many species lived in that particular time. \n",
    "\n",
    "2. Another graph would be plot to show how long each family lived (aka stratigraphic record)\n",
    "\n",
    "3. Occurance data would be used in plot in python and these data would be used to calculate rates of extinction or speciation rates\n",
    "\n",
    "Overall, three graphs would be made to understand the data"
   ]
  }
 ],
 "metadata": {
  "anaconda-cloud": {},
  "kernelspec": {
   "display_name": "Python [default]",
   "language": "python",
   "name": "python3"
  },
  "language_info": {
   "codemirror_mode": {
    "name": "ipython",
    "version": 3
   },
   "file_extension": ".py",
   "mimetype": "text/x-python",
   "name": "python",
   "nbconvert_exporter": "python",
   "pygments_lexer": "ipython3",
   "version": "3.5.2"
  }
 },
 "nbformat": 4,
 "nbformat_minor": 2
}
