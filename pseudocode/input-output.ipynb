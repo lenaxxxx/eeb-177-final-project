{
 "cells": [
  {
   "cell_type": "markdown",
   "metadata": {},
   "source": [
    "### Pseudocode: Input-output\n",
    "\n",
    "In this project, the file would be inputed by using:\n",
    "\n",
    "    proboscidea_file = open(\"../ideas/proboscidea.csv\")\n",
    "    my_data = proboscidea_file.read()\n",
    "    \n",
    "after the figures and datas created, they would be outputed through commands:\n",
    "\n",
    "    output = open(\"final_project.txt\", \"w\")\n",
    "    output.write(figures&datas)\n",
    "    output.close()\n",
    "    \n",
    "    \n"
   ]
  },
  {
   "cell_type": "code",
   "execution_count": null,
   "metadata": {
    "collapsed": false
   },
   "outputs": [],
   "source": []
  },
  {
   "cell_type": "code",
   "execution_count": null,
   "metadata": {
    "collapsed": true
   },
   "outputs": [],
   "source": []
  }
 ],
 "metadata": {
  "anaconda-cloud": {},
  "kernelspec": {
   "display_name": "Python [default]",
   "language": "python",
   "name": "python3"
  },
  "language_info": {
   "codemirror_mode": {
    "name": "ipython",
    "version": 3
   },
   "file_extension": ".py",
   "mimetype": "text/x-python",
   "name": "python",
   "nbconvert_exporter": "python",
   "pygments_lexer": "ipython3",
   "version": "3.5.2"
  }
 },
 "nbformat": 4,
 "nbformat_minor": 2
}
