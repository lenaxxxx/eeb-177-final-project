{
 "cells": [
  {
   "cell_type": "markdown",
   "metadata": {},
   "source": [
    "![badge1](proboscidea_by_iririv-d6yi847.jpg)\n",
    "\n",
    "\n",
    "## Markdown outline of the complete project\n",
    "\n",
    "- include pseudocode for portions you need to write\n",
    "\n",
    "- placeholders for figures\n",
    "\n",
    "- any code that you do include should be well-commented\n",
    "\n",
    "- include references in the intro about evolutionary history or your research topic"
   ]
  },
  {
   "cell_type": "markdown",
   "metadata": {},
   "source": [
    "### Pseudocode\n",
    "\n",
    "In this project, many data will be used to produce figures. Occurance data, early appearance and late apperance, genus and species name would be used in constructing figures.\n",
    "\n",
    "1. Species or genus would be used to construct a graph showing how many species lived at each particular time(would probably use genus instead of species since Proboscidea have 2952 number of unique species). This graph would probably in form of bar graph.\n",
    "\n",
    "2. Another graph will be showing how long each family lived (aka stratigraphic record). In this graph, both ealy appearance and late appearance will be used.\n",
    "\n",
    "3. Occurance data would be used in plot in python and these data would be used to calculate rates of extinction or speciation rates\n",
    "\n",
    "Overall, three graphs would be made to understand the data"
   ]
  },
  {
   "cell_type": "markdown",
   "metadata": {},
   "source": [
    "![badge] # inserting figures"
   ]
  },
  {
   "cell_type": "code",
   "execution_count": 2,
   "metadata": {
    "collapsed": false
   },
   "outputs": [],
   "source": [
    "## open the file\n",
    "\n",
    "infile = \"ideas/proboscidea.csv\"\n",
    "with open(infile, 'r') as ff:\n",
    "    canid_recs = ff.readlines()[18:]\n",
    "    "
   ]
  },
  {
   "cell_type": "code",
   "execution_count": 10,
   "metadata": {
    "collapsed": false
   },
   "outputs": [],
   "source": [
    "# use defauldict\n",
    "from collections import defaultdict\n",
    "\n",
    "species_ranges = defaultdict(list)\n",
    "\n",
    "# make a dictionary\n",
    "\n",
    "for line in canid_recs:\n",
    "    species = line.split('\",\"')[9] #split the list and take the species\n",
    "    early_appearance = line.split('\",\"')[14] # split the list to get early_appearance(max_ma)\n",
    "    late_appearance = line.split('\",\"')[15] # split the list to get late appearance (min_ma)\n",
    "    genus = species.split(\" \")[0] # split the species name at space to take out genus name\n",
    "    species_ranges[species].append(genus) #add species as keys and genus as elements to the list\n",
    "    \n",
    "    # print(genus+ \" , \"+species+ \" , \"+early_appearance+ \" , \"+late_appearance)\n",
    "    \n"
   ]
  },
  {
   "cell_type": "markdown",
   "metadata": {
    "collapsed": false
   },
   "source": [
    "### Introduction\n",
    "\n",
    "**References**\n",
    "\n",
    "\n",
    "Shoshani, J., and P. Tassy(2005) Advances in proboscidean taxonomy & classification, anatomy &\n",
    "physiology, and ecology & behavior, Quaternary International, 126–128: 5–20. Accessed March 2, 2017. DOI:10.1016/j.quaint.2004.04.011.\n",
    "\n",
    "Aouadi, N.(2001) New data on the diversity of Elephants (Mammalia, Proboscidea) in the Early and early Middle Pleistocene of France, The World of Elephants - International Congress, Rome, 81-84 . Accessed March 2, 2017.\n",
    "\n",
    "Antoini, P., Welcomme J., Marivaux L., Baloch I., Benammi M., and P. Tassy(2003) FIRST RECORD OF PALEOGENE ELEPHANTOIDEA (MAMMALIA, PROBOSCIDEA) FROM THE BUGTI HILLS OF PAKISTAN, Journal of Vertebrate Paleontology 23:4, 977-980. Accessed March 2, 2017. DOI:10.1671/2453-25.\n",
    "\n",
    "\n",
    "Sánchez, B., Prado L. J., and M.T.. Alberdi(2004) Feeding ecology, dispersal, and extinction of South American Pleistocene gomphotheres (Gomphotheriidae, Proboscidea). Paleobiology, 30:1, 146-161. Accessed March 2, 2017. DOI:10.1666/0094-8373(2004)030.\n",
    "\n",
    "William J. Sanders (1999) Oldest record of Stegodon (Mammalia: Proboscidea), Journal of Vertebrate Paleontology, 19:4, 793-797, DOI:10.1080/02724634.1999.10011194\n",
    "\n"
   ]
  },
  {
   "cell_type": "markdown",
   "metadata": {
    "collapsed": true
   },
   "source": []
  }
 ],
 "metadata": {
  "anaconda-cloud": {},
  "kernelspec": {
   "display_name": "Python [default]",
   "language": "python",
   "name": "python3"
  },
  "language_info": {
   "codemirror_mode": {
    "name": "ipython",
    "version": 3
   },
   "file_extension": ".py",
   "mimetype": "text/x-python",
   "name": "python",
   "nbconvert_exporter": "python",
   "pygments_lexer": "ipython3",
   "version": "3.5.2"
  }
 },
 "nbformat": 4,
 "nbformat_minor": 2
}
