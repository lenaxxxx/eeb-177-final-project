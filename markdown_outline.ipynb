{
 "cells": [
  {
   "cell_type": "markdown",
   "metadata": {},
   "source": [
    "# The Evolution of Proboscidea\n",
    "\n",
    "\n",
    "\n",
    "\n",
    "![badge1](screen-shots/proboscidea_by_iririv-d6yi847.jpg)\n",
    "\n"
   ]
  },
  {
   "cell_type": "markdown",
   "metadata": {},
   "source": [
    "## Introduction\n",
    "\n",
    "** Write introduction **\n",
    "\n",
    "Proboscidea is a taxonomic order of Afrotherian mammals. The fossil occurence records showed that the earliest fossil records were from 57.6 million years ago. According to the PaleoBiology Database, there are 115 unique species, from which only 3 extant species and all 3 of them are from family Elephantidea; which means that during these 57.6 million years, 97.39% of *Proboscidea* species went extinct, leaving only 2.61% of all species living today.  \n",
    "\n",
    "\n",
    "**Problem:**\n",
    "    In this project, there was problems with database. The name *Proboscidea* is not only order of afrotherian mammals, it is also an order of class *Insecta*; therefore, when getting the data from PBDB, the data that showed up were from wrong phylum. In order to fix this issue, instead of searching for *Proboscidea*, I used *Tethytheria*, which is the higher classification level (clade). And using these data, I was able to use \"grep\" to extract all the *Proboscidea* data and removed other data from sister order.\n"
   ]
  },
  {
   "cell_type": "markdown",
   "metadata": {},
   "source": [
    "## Method\n",
    "\n",
    "In this project, many data will be used to produce figures. Occurance data, early appearance and late apperance, genus and species name would be used in constructing figures.\n",
    "\n",
    "1. Species or genus would be used to construct a graph showing how many species lived at each particular time. The graph would  in form of geom graph.\n",
    "\n",
    "2. Another graph will be showing how long each family lived (aka stratigraphic record). In this graph, both ealy appearance and late appearance will be used.\n",
    "\n",
    "3. Occurance data would be used in plot in python and these data would be used to calculate rates of extinction, speciation, diversification rates\n",
    "\n",
    "Overall, more than three graphs would be made to understand the data\n",
    "\n"
   ]
  },
  {
   "cell_type": "markdown",
   "metadata": {},
   "source": [
    "### 1. Generating Occurence graph, diversity graph and World-map distribution of Fossil Records\n",
    "#### - Extracting data using python for generating graphs using ggplot\n"
   ]
  },
  {
   "cell_type": "code",
   "execution_count": 8,
   "metadata": {
    "collapsed": false
   },
   "outputs": [],
   "source": [
    "## open the file\n",
    "\n",
    "infile = \"/home/eeb177-student/Desktop/eeb-177/eeb-177-final-project/data_file/occurence_graph/proboscidea.csv\"\n",
    "with open(infile, 'r') as ff:\n",
    "    proboscidea_recs = ff.readlines()\n",
    "    "
   ]
  },
  {
   "cell_type": "code",
   "execution_count": 9,
   "metadata": {
    "collapsed": false
   },
   "outputs": [],
   "source": [
    "# use defauldict\n",
    "from collections import defaultdict\n",
    "\n",
    "species_ranges = defaultdict(list)\n",
    "\n",
    "# make a dictionary\n",
    "\n",
    "for line in proboscidea_recs:\n",
    "    species = line.split('\",\"')[5]\n",
    "    minage = line.split('\",\"')[10]\n",
    "    maxage = line.split('\",\"')[11]\n",
    "    mean_age = (float(minage)+float(maxage))/2\n",
    "    species_ranges[species].append(mean_age) #add species as keys and mean ages as elements to the list of ages\n",
    "    #species_ranges[species].append(maxage)\n",
    "    "
   ]
  },
  {
   "cell_type": "code",
   "execution_count": 10,
   "metadata": {
    "collapsed": false,
    "scrolled": true
   },
   "outputs": [
    {
     "name": "stdout",
     "output_type": "stream",
     "text": [
      "Afrochoerodon Afrochoerodon kisumuensis 16.435 13.795\n",
      "Amahuacatherium Amahuacatherium peruvium 9.5 9.433\n",
      "Amebelodon Amebelodon britti 14.1815 7.6000000000000005\n",
      "Amebelodon Amebelodon floridanus 14.1815 7.6000000000000005\n",
      "Amebelodon Amebelodon fricki 9.25 7.6000000000000005\n",
      "Amebelodon Amebelodon grandincisivus 9.2 9.2\n",
      "Anancus Anancus arvernensis 7.0165 0.4535\n",
      "Anancus Anancus defloccatus 1.29985 1.29985\n",
      "Anancus Anancus kenyensis 14.1815 2.6723500000000002\n",
      "Anancus Anancus orarius 1.29985 1.29985\n",
      "Anancus Anancus perimensis 4.4665 4.4665\n",
      "Archidiskodon Archidiskodon celebensis 3.0940000000000003 1.6845\n",
      "Barytherium Barytherium grave 37.599999999999994 31.0\n",
      "Chilgatherium Chilgatherium harrisi 25.565 25.565\n",
      "Choerolophodon Choerolophodon anatolicus 9.2 9.2\n",
      "Choerolophodon Choerolophodon pentelici 10.154 7.0165\n",
      "Cuvieronius Cuvieronius priestleyi 1.05 1.05\n",
      "Cuvieronius Cuvieronius tropicus 7.6000000000000005 1.05\n",
      "Daouitherium Daouitherium rebouli 51.9 51.9\n",
      "Deinotherium Deinotherium bozasi 11.520850000000001 1.2935\n",
      "Deinotherium Deinotherium giganteum 14.81 4.4665\n",
      "Deinotherium Deinotherium indicum 8.470500000000001 8.470500000000001\n",
      "Dibelodon Dibelodon andium 1.29985 1.29985\n",
      "Dibelodon Dibelodon praecursor 3.35 3.35\n",
      "Elephas Elephas beyeri 1.29985 1.29985\n",
      "Elephas Elephas cypriotes 0.4535 0.4535\n",
      "Elephas Elephas falconeri 1.29985 1.29985\n",
      "Elephas Elephas maximus 1.6845 0.06885\n",
      "Elephas Elephas nawataensis 7.103999999999999 7.103999999999999\n",
      "Eritherium Eritherium azzouzorum 57.6 57.6\n",
      "Eritreum Eritreum melakeghebrekristosi 28.465 28.465\n",
      "Eubelodon Eubelodon morrilli 11.95 11.95\n",
      "Gnathabelodon Gnathabelodon buckneri 11.95 11.95\n",
      "Gnathabelodon Gnathabelodon thorpei 14.1815 14.1815\n",
      "Gomphotherium Gomphotherium angustidens 19.5 6.2895\n",
      "Gomphotherium Gomphotherium connexus 8.470500000000001 8.470500000000001\n",
      "Gomphotherium Gomphotherium gratum 1.29985 1.29985\n",
      "Gomphotherium Gomphotherium obscurum 14.895 7.6000000000000005\n",
      "Gomphotherium Gomphotherium shensiensis 12.719999999999999 12.719999999999999\n",
      "Gomphotherium Gomphotherium simplicidens 7.6000000000000005 7.6000000000000005\n",
      "Gomphotherium Gomphotherium wimani 14.1815 8.470500000000001\n",
      "Haplomastodon Haplomastodon (Aleamastodon) guayasensis 0.39635000000000004 0.39635000000000004\n",
      "Haplomastodon Haplomastodon chimborazi 1.29985 0.06885\n",
      "Haplomastodon Haplomastodon waringi 1.29985 1.29985\n",
      "Losodokodon Losodokodon losodokius 25.715 25.715\n",
      "Loxodonta Loxodonta africana 1.29985 0.00585\n",
      "Loxodonta Loxodonta creutzburgi 1.29985 1.29985\n",
      "Mammut Mammut americanum 14.1815 0.00585\n",
      "Mammut Mammut cosoensis 3.35 3.35\n",
      "Mammut Mammut furlongi 14.1815 14.1815\n",
      "Mammut Mammut matthewi 12.719999999999999 3.35\n",
      "Mammut Mammut raki 3.35 3.35\n",
      "Mammuthus Mammuthus columbi 12.809000000000001 0.06885\n",
      "Mammuthus Mammuthus exilis 0.156 0.06885\n",
      "Mammuthus Mammuthus hayi 2.6 1.05\n",
      "Mammuthus Mammuthus lamarmorae 8.470500000000001 1.80585\n",
      "Mammuthus Mammuthus meridionalis 3.9605 0.4535\n",
      "Mammuthus Mammuthus primigenius 3.0940000000000003 0.00585\n",
      "Mammuthus Mammuthus trogontherii 1.6845 0.39635000000000004\n",
      "Mastodon Mastodon bumiajuensis 1.6845 1.6845\n",
      "Mastodon Mastodon proavus 14.785 14.785\n",
      "Mastodon Mastodon spenceri 16.435 16.435\n",
      "Moeritherium Moeritherium chehbeurameuri 37.599999999999994 37.599999999999994\n",
      "Moeritherium Moeritherium gracile 35.95 31.0\n",
      "Moeritherium Moeritherium lyonsi 37.599999999999994 31.0\n",
      "Moeritherium Moeritherium trigonodon 32.8 31.0\n",
      "Morrillia Morrillia barbouri 1.05 1.05\n",
      "Neodesmostylus Neodesmostylus primigenius 1.29985 1.29985\n",
      "Numidotherium Numidotherium koholense 51.9 51.9\n",
      "Numidotherium Numidotherium savagei 37.599999999999994 37.599999999999994\n",
      "Omanitherium Omanitherium dhofarensis 31.15 31.15\n",
      "Palaeoloxodon Palaeoloxodon antiquus 2.197 0.06885\n",
      "Palaeoloxodon Palaeoloxodon mnaidriensis 1.29985 1.29985\n",
      "Palaeoloxodon Palaeoloxodon naumanni 0.06885 0.06885\n",
      "Palaeoloxodon Palaeoloxodon recki 11.520850000000001 0.00585\n",
      "Palaeomastodon Palaeomastodon beadnelli 31.0 31.0\n",
      "Palaeomastodon Palaeomastodon minor 31.0 31.0\n",
      "Palaeomastodon Palaeomastodon parvus 31.0 31.0\n",
      "Palaeomastodon Palaeomastodon wintoni 31.0 31.0\n",
      "Phiomia Phiomia major 25.565 25.565\n",
      "Phiomia Phiomia serridens 31.0 31.0\n",
      "Phosphatherium Phosphatherium escuilliei 51.9 51.9\n",
      "Platybelodon Platybelodon barnumbrowni 11.95 11.95\n",
      "Platybelodon Platybelodon loomisi 14.1815 7.6000000000000005\n",
      "Primelephas Primelephas korotorensis 14.1815 3.9605\n",
      "Prodeinotherium Prodeinotherium bavaricum 19.5 11.925\n",
      "Prodeinotherium Prodeinotherium hobleyi 19.5 12.719999999999999\n",
      "Prodeinotherium Prodeinotherium pentapotamiae 18.45 12.719999999999999\n",
      "Rhynchotherium Rhynchotherium blicki 14.1815 14.1815\n",
      "Rhynchotherium Rhynchotherium falconeri 7.6000000000000005 3.35\n",
      "Serbelodon Serbelodon barbourensis 11.95 9.25\n",
      "Serbelodon Serbelodon burnhami 11.95 11.95\n",
      "Serridentinus Serridentinus mongoliensis 19.5 19.5\n",
      "Stegodibelodon Stegodibelodon schneideri 7.609999999999999 3.9605\n",
      "Stegodon Stegodon florensis 1.6845 0.4535\n",
      "Stegodon Stegodon kaisensis 12.809000000000001 2.6723500000000002\n",
      "Stegodon Stegodon luzonensis 1.29985 1.29985\n",
      "Stegodon Stegodon sompoensis 3.0940000000000003 1.6845\n",
      "Stegodon Stegodon sondaari 1.6845 1.6845\n",
      "Stegodon Stegodon sumbaensis 1.29985 1.29985\n",
      "Stegodon Stegodon trigonocephalus 1.6845 0.06885\n",
      "Stegodon Stegodon yuanmouensis 1.29985 1.29985\n",
      "Stegomastodon Stegomastodon aftoniae 1.6845 0.4535\n",
      "Stegomastodon Stegomastodon mirificus 3.35 1.05\n",
      "Stegomastodon Stegomastodon platensis 1.29985 0.3965\n",
      "Stegomastodon Stegomastodon primitivus 3.35 3.35\n",
      "Stegomastodon Stegomastodon waringi 1.29985 0.00585\n",
      "Stegotetrabelodon Stegotetrabelodon orbus 9.433 4.917\n",
      "Tetrabelodon Tetrabelodon angustidens 19.5 2.197\n",
      "Tetrabelodon Tetrabelodon osborni 14.785 11.95\n",
      "Tetralophodon Tetralophodon longirostris 11.925 8.225\n",
      "Zygolophodon Zygolophodon aegyptensis 16.435 16.435\n",
      "Zygolophodon Zygolophodon morotoensis 21.2 17.319000000000003\n",
      "Zygolophodon Zygolophodon tapiroides 14.1815 3.0940000000000003\n",
      "Zygolophodon Zygolophodon turicensis 14.895 8.470500000000001\n"
     ]
    }
   ],
   "source": [
    "output = open(\"/home/eeb177-student/Desktop/eeb-177/eeb-177-final-project/data_file/occurence_graph/manipulated-data.csv\",\"w\")\n",
    "\n",
    "for key in sorted(species_ranges.keys()):\n",
    "    ages = species_ranges[key]\n",
    "    min_age = min(ages)\n",
    "    max_age = max(ages)\n",
    "    genus = key.split(\" \")[0]\n",
    "    species = key\n",
    "    print(genus,species, max_age,min_age)\n",
    "    outline = \"{},{},{},{}\\n\".format(genus, species, max_age, min_age)\n",
    "    output.write(outline)\n",
    "    output.close\n",
    "    "
   ]
  },
  {
   "cell_type": "markdown",
   "metadata": {},
   "source": [
    "#### - Using the data above and using rstudio I was able to generate occurance graph(figure 1) and diversification graph(figure 2)\n",
    "\n",
    "\n",
    "#### - Creating a Map showing disctribution of fossil records (figure 3, figure 4)\n",
    "\n",
    "Using (cut -d \",\" -f 6,7,20,21 location.csv > formatted_location.csv) i was able to extract accepted name, rank, max_ma, longitude, and latitude of the data \n",
    "\n",
    "Using these data, ggplot2 and map function, I was able to plot the fossil records on the map, showing the distribution of the fossil records"
   ]
  },
  {
   "cell_type": "markdown",
   "metadata": {},
   "source": [
    "### 2. Generating extinction, speciation, and diversitification graphs through shell\n",
    "\n",
    "** Steps I did in the shell in order to generate graphs:**\n",
    "1. Download data using wget and name it proboscidea.csv (wget -O proboscidea.csv \"https://paleobiodb.org/data1.2/occs/list.csv?base_name=proboscidea&show=acconly\") \n",
    "\n",
    "2. Reformat data using R script so PyRate can use it \n",
    "\n",
    "    *Extanct species were derived from PBDB-taxa data:*\n",
    "\n",
    "        \"Psylla saliceti\", \"Psylla cotoneasteris\", \"Psylla klapaleki\", \"Psylla abdominalis\", \"Psylla vasiljevi\", \"Psylla pulchra\", \"Psylla medicaginis\", \"Psylla ulmi\", \"Psylla rhombifera\", \"Psylla sorbi\", \"Psylla praevia\", \"Psylla abietis\", \"Psylla propinqua\", \"Psylla moscovita\", \"Cacopsylla sorbi\", \"Trioza salicivora\", \"Trioza centranthi\", \"Trioza magnisetosa\", \"Trioza cinnamomi\", \"Trioza striola\", \"Longistigma caryae\", \"Chaitophorus salijaponicus\", \"Tibicina haematodes\", \"Tibicen japonicus\", \"Terpnosia vacua\", \"Yezoterpnosia nigricosta\", \"Cicada orni\", \"Cicada viridis\", \"Strongylocephalus agrestis\", \"Aphrodes bifasciatus\", \"Deltocephalus ocellaris\", \"Cicadella viridis\", \"Pterodictya ephemera\", \"Eusarcoris (Rhacognathus) punctatus\", \"Carbula crassiventris\", \"Paleofroeschnerius magnus\", \"Hovatlas invaginatus\", \"Gitava fusca\", \"Cysteochila impressa\", \"Sigara (Callicorixa) producta\", \"Laccotrephes robustus\", \"Ranatra brevicollis\", \"Ranatra fusca\", \"Belostoma bakeri\", \"Lethocerus americanus\", \"Notonecta (Paranecta) unifasciata\", \"Saldula saltatoria\", \"Salda littoralis\"\n",
    "![badge3](screen-shots/r-script.png)\n",
    "\n",
    "3. Run the shell script taught by Gaurvask in class \n",
    "   \n",
    "   For the final project I used 982000 steps in the MCMC chain to run PyRate analysis (this took me over 12 hours)\n",
    "![badge4](screen-shots/shell-script.png)\n",
    "\n",
    "4. Using the file generated *marginal_rates.log* I generated the PDF file of RTT (python ~/PyRate/PyRate.py -plot proboscidea_1_marginal_rates.log)\n"
   ]
  },
  {
   "cell_type": "markdown",
   "metadata": {},
   "source": [
    "## Figures\n",
    "\n",
    "### Figure 1: Proboscidea Occurence Graph\n",
    "![badge9](screen-shots/proboscidea_fossil_occurence.png) \n",
    "\n",
    "### Figure 2: Proboscidea Diversity Graph\n",
    "![badge7](screen-shots/diversity_through_time.png) \n",
    "\n",
    "### Figure 3: Map of Fossil Record Occurences\n",
    "![badge10](screen-shots/fossil_records_map.png)\n",
    "\n",
    "### Figure 4: Map of Fossil Record Occurences according to Time\n",
    "![badge11](screen-shots/fossil_records_time.png)\n",
    "\n",
    "### Figure 5: Change in Speciation rate of Proboscidea through Time\n",
    "![badge5](screen-shots/speciation_rate.png)\n",
    "\n",
    "### Figure 6: Change in Extinction rate of Proboscidea through Time\n",
    "![badge6](screen-shots/extinction_rate.png)\n",
    "\n",
    "### Figure 7: Change in Net-diversification rate of Proboscidea through Time\n",
    "![badge7](screen-shots/diversification.png)\n",
    "\n"
   ]
  },
  {
   "cell_type": "markdown",
   "metadata": {},
   "source": [
    "### Discussion\n",
    "\n"
   ]
  },
  {
   "cell_type": "markdown",
   "metadata": {
    "collapsed": false
   },
   "source": [
    "### References\n",
    "\n",
    "\n",
    "Antoini, P., Welcomme J., Marivaux L., Baloch I., Benammi M., and P. Tassy(2003) FIRST RECORD OF PALEOGENE ELEPHANTOIDEA (MAMMALIA, PROBOSCIDEA) FROM THE BUGTI HILLS OF PAKISTAN, Journal of Vertebrate Paleontology 23:4, 977-980. Accessed March 2, 2017. DOI:10.1671/2453-25.\n",
    "\n",
    "Aouadi, N.(2001) New data on the diversity of Elephants (Mammalia, Proboscidea) in the Early and early Middle Pleistocene of France, The World of Elephants - International Congress, Rome, 81-84 . Accessed March 2, 2017.\n",
    "\n",
    "Sánchez, B., Prado L. J., and M.T.. Alberdi(2004) Feeding ecology, dispersal, and extinction of South American Pleistocene gomphotheres (Gomphotheriidae, Proboscidea). Paleobiology, 30:1, 146-161. Accessed March 2, 2017. DOI:10.1666/0094-8373(2004)030.\n",
    "\n",
    "Shoshani, J., and P. Tassy(2005) Advances in proboscidean taxonomy & classification, anatomy &\n",
    "physiology, and ecology & behavior, Quaternary International, 126–128: 5–20. Accessed March 2, 2017. DOI:10.1016/j.quaint.2004.04.011.\n",
    "\n",
    "William J. Sanders (1999) Oldest record of Stegodon (Mammalia: Proboscidea), Journal of Vertebrate Paleontology, 19:4, 793-797, DOI:10.1080/02724634.1999.10011194"
   ]
  },
  {
   "cell_type": "markdown",
   "metadata": {
    "collapsed": true
   },
   "source": [
    "## Github link: https://github.com/lenaxxxx/eeb-177-final-project\n"
   ]
  },
  {
   "cell_type": "code",
   "execution_count": null,
   "metadata": {
    "collapsed": true
   },
   "outputs": [],
   "source": []
  }
 ],
 "metadata": {
  "anaconda-cloud": {},
  "kernelspec": {
   "display_name": "Python [default]",
   "language": "python",
   "name": "python3"
  },
  "language_info": {
   "codemirror_mode": {
    "name": "ipython",
    "version": 3
   },
   "file_extension": ".py",
   "mimetype": "text/x-python",
   "name": "python",
   "nbconvert_exporter": "python",
   "pygments_lexer": "ipython3",
   "version": "3.5.2"
  }
 },
 "nbformat": 4,
 "nbformat_minor": 2
}
