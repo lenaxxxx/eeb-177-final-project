{
 "cells": [
  {
   "cell_type": "markdown",
   "metadata": {},
   "source": [
    "### Commit I/O and 2+ functions\n",
    "#### Here I created a fucntion that tells us when the species was first occured (period)"
   ]
  },
  {
   "cell_type": "code",
   "execution_count": null,
   "metadata": {
    "collapsed": true
   },
   "outputs": [],
   "source": []
  },
  {
   "cell_type": "code",
   "execution_count": 6,
   "metadata": {
    "collapsed": true
   },
   "outputs": [],
   "source": [
    "def makeProboscideaDict2(filename):\n",
    "    # this function opens the data file \n",
    "    ProboscideaDict = {}\n",
    "    in_file= open(filename, \"r\",encoding = \"ISO-8859.15\") # open the file\n",
    "    all_records = in_file.readlines()[2:] # read the file (list)\n",
    "    for line in all_records:\n",
    "        mylist = line.strip('\\n').replace('\\\"','') # removes unwanted quotation marks\n",
    "        item = mylist.split(\",\") # split lines on comma (this produces another list)\n",
    "        species = item[5]\n",
    "        interval = item[8]\n",
    "        ProboscideaDict[species] = interval # stick species and occurence into ProboscideaDict\n",
    "\n",
    "    return ProboscideaDict"
   ]
  },
  {
   "cell_type": "code",
   "execution_count": 7,
   "metadata": {
    "collapsed": false,
    "scrolled": true
   },
   "outputs": [
    {
     "name": "stdout",
     "output_type": "stream",
     "text": [
      "Stegomastodon aftoniae was first occured during Early Pleistocene time\n",
      "Phiomia major was first occured during Chattian time\n",
      "Prodeinotherium hobleyi was first occured during Early Miocene time\n",
      "Phiomia serridens was first occured during Rupelian time\n",
      "Stegomastodon waringi was first occured during Pleistocene time\n",
      "Cuvieronius tropicus was first occured during Late Pliocene time\n",
      "Elephas maximus was first occured during Late Pleistocene time\n",
      "Gomphotherium obscurum was first occured during Langhian time\n",
      "Morrillia barbouri was first occured during Irvingtonian time\n",
      "Amebelodon britti was first occured during Hemphillian time\n",
      "Notiomastodon was first occured during Early Pleistocene time\n",
      "Gnathabelodon thorpei was first occured during Miocene time\n",
      "Prodeinotherium pentapotamiae was first occured during Burdigalian time\n",
      "Prodeinotherium bavaricum was first occured during Langhian time\n",
      "Mammut americanum was first occured during Late Pleistocene time\n",
      "Zygolophodon morotoensis was first occured during Early Miocene time\n",
      "Prodeinotherium was first occured during Late Oligocene time\n",
      "Pediolophodon was first occured during Clarendonian time\n",
      "Stegodon luzonensis was first occured during Pleistocene time\n",
      "Gomphotherium gratum was first occured during Pleistocene time\n",
      "Barytherioidea was first occured during Early Oligocene time\n",
      "Gomphotherium shensiensis was first occured during Serravallian time\n",
      "Rhynchotherium was first occured during Late Hemphillian time\n",
      "Stegomastodon mirificus was first occured during Irvingtonian time\n",
      "Gomphotherium simplicidens was first occured during Late Hemphillian time\n",
      "Stegodon trigonocephalus was first occured during Late Pleistocene time\n",
      "Moeritherium gracile was first occured during Priabonian time\n",
      "Palaeomastodontidae was first occured during Oligocene time\n",
      "Choerolophodon anatolicus was first occured during MN 10 time\n",
      "Mammuthus was first occured during Pleistocene time\n",
      "Deinotherium giganteum was first occured during MN 9 time\n",
      "Palaeoloxodon antiquus was first occured during Late Pleistocene time\n",
      "Stegomastodon was first occured during Pleistocene time\n",
      "Serbelodon barbourensis was first occured during Clarendonian time\n",
      "Elephantinae was first occured during Early Pleistocene time\n",
      "Haplomastodon waringi was first occured during Pleistocene time\n",
      "Platybelodon was first occured during MN 6 time\n",
      "Mammuthus trogontherii was first occured during Middle Pleistocene time\n",
      "Numidotheriidae was first occured during Early Eocene time\n",
      "Mammut cosoensis was first occured during Blancan time\n",
      "Mammut furlongi was first occured during Miocene time\n",
      "Stegodon yuanmouensis was first occured during Pleistocene time\n",
      "Choerolophodon pentelici was first occured during Late Miocene time\n",
      "Eubelodon morrilli was first occured during Clarendonian time\n",
      "Palaeomastodon minor was first occured during Rupelian time\n",
      "Mastodon proavus was first occured during Barstovian time\n",
      "Elephas falconeri was first occured during Early Pleistocene time\n",
      "Cuvieronius priestleyi was first occured during Irvingtonian time\n",
      "Serridentinus mongoliensis was first occured during Early Miocene time\n",
      "Dibelodon praecursor was first occured during Blancan time\n",
      "Serbelodon burnhami was first occured during Clarendonian time\n",
      "Moeritherium lyonsi was first occured during Priabonian time\n",
      "Loxodonta africana was first occured during Late Pleistocene time\n",
      "Anancus kenyensis was first occured during Tortonian time\n",
      "Deinotherium was first occured during Sarmatian time\n",
      "Moeritheriidae was first occured during Lutetian time\n",
      "Protanancus was first occured during Early Miocene time\n",
      "Deinotheriidae was first occured during Vallesian time\n",
      "Eubelodon was first occured during Clarendonian time\n",
      "Stegomastodon platensis was first occured during Pleistocene time\n",
      "Amebelodon grandincisivus was first occured during MN 10 time\n",
      "Barytherium grave was first occured during Priabonian time\n",
      "Mammut raki was first occured during Blancan time\n",
      "Deinotherium indicum was first occured during Late Miocene time\n",
      "Amebelodon floridanus was first occured during Hemphillian time\n",
      "Serbelodon was first occured during Barstovian time\n",
      "Gomphotheriidae was first occured during Late Miocene time\n",
      "Omanitherium dhofarensis was first occured during Early Oligocene time\n",
      "Numidotherium was first occured during Priabonian time\n",
      "Haplomastodon was first occured during Late Pleistocene time\n",
      "Phiomia was first occured during Early Oligocene time\n",
      "Moeritherium chehbeurameuri was first occured during Bartonian time\n",
      "Stegodon sompoensis was first occured during Late Pliocene time\n",
      "Elephas beyeri was first occured during Pleistocene time\n",
      "Loxodonta creutzburgi was first occured during Early Pleistocene time\n",
      "Anancinae was first occured during Late Pleistocene time\n",
      "Zygolophodon tapiroides was first occured during Neogene time\n",
      "Mammut matthewi was first occured during Late Hemphillian time\n",
      "Elephas cypriotes was first occured during Middle Pleistocene time\n",
      "Moeritherium trigonodon was first occured during Rupelian time\n",
      "Haplomastodon chimborazi was first occured during Pleistocene time\n",
      "Afrochoerodon kisumuensis was first occured during MN 4 time\n",
      "Chilgatherium harrisi was first occured during Chattian time\n",
      "Mammutidae was first occured during Early Miocene time\n",
      "Palaeoloxodon naumanni was first occured during Late Pleistocene time\n",
      "Barytherium was first occured during Late Eocene time\n",
      "Elephas nawataensis was first occured during Tortonian time\n",
      "Mammuthus columbi was first occured during Rancholabrean time\n",
      "Primelephas was first occured during Messinian time\n",
      "Cuvieronius was first occured during Late Pleistocene time\n",
      "Palaeoloxodon recki was first occured during Pliocene time\n",
      "Palaeoloxodon mnaidriensis was first occured during Early Pleistocene time\n",
      "Archidiskodon celebensis was first occured during Late Pliocene time\n",
      "Anancus arvernensis was first occured during Early Pliocene time\n",
      "Choerolophodon was first occured during Sarmatian time\n",
      "Elephantidae was first occured during Early Pleistocene time\n",
      "Stegodibelodon schneideri was first occured during Pliocene time\n",
      "Neodesmostylus primigenius was first occured during Pleistocene time\n",
      "Tetrabelodon angustidens was first occured during Neogene time\n",
      "Zygolophodon aegyptensis was first occured during MN 4 time\n",
      "Zygolophodon was first occured during Baodean time\n",
      "Archaeobelodon was first occured during MN 4 time\n",
      "Synconolophus was first occured during Late Miocene time\n",
      "Stegodon kaisensis was first occured during Tortonian time\n",
      "Stegodon was first occured during Baodean time\n",
      "Stegotetrabelodon orbus was first occured during Tortonian time\n",
      "Gomphotherium connexus was first occured during Late Miocene time\n",
      "Haplomastodon (Aleamastodon) guayasensis was first occured during Middle Pleistocene time\n",
      "Stegodon sondaari was first occured during Early Pleistocene time\n",
      "Tetralophodon longirostris was first occured during Tortonian time\n",
      "Mammuthus lamarmorae was first occured during Late Pliocene time\n",
      "Phosphatherium escuilliei was first occured during Ypresian time\n",
      "Moeritherium was first occured during Lutetian time\n",
      "Eritreum melakeghebrekristosi was first occured during Oligocene time\n",
      "Amebelodon fricki was first occured during Clarendonian time\n",
      "Daouitherium rebouli was first occured during Ypresian time\n",
      "Zygolophodon turicensis was first occured during Late Miocene time\n",
      "Elephas was first occured during Baodean time\n",
      "Elephantoidea was first occured during Late Oligocene time\n",
      "Gomphotherium was first occured during Barstovian time\n",
      "Sinomastodon was first occured during Early Pleistocene time\n",
      "Stegodontidae was first occured during MN 7 + 8 time\n",
      "Anancus was first occured during Messinian time\n",
      "Numidotherium savagei was first occured during Bartonian time\n",
      "Elephas maximus indicus was first occured during Early Pleistocene time\n",
      "Loxodonta was first occured during Late Pleistocene time\n",
      "Mastodon bumiajuensis was first occured during Early Pleistocene time\n",
      "Rhynchotherium falconeri was first occured during Blancan time\n",
      "Eritherium azzouzorum was first occured during Thanetian time\n",
      "Palaeomastodon parvus was first occured during Rupelian time\n",
      "Palaeomastodon beadnelli was first occured during Rupelian time\n",
      "Amahuacatherium peruvium was first occured during Chasicoan time\n",
      "Anancus defloccatus was first occured during Pleistocene time\n",
      "Deinotherium bozasi was first occured during Pliocene time\n",
      "Stegodon florensis was first occured during Middle Pleistocene time\n",
      "Palaeomastodon wintoni was first occured during Rupelian time\n",
      "Amebelodon was first occured during Hemphillian time\n",
      "Mammuthus exilis was first occured during Rancholabrean time\n",
      "Anancus perimensis was first occured during Zanclean time\n",
      "Platybelodon barnumbrowni was first occured during Clarendonian time\n",
      "Mammut was first occured during Sarmatian time\n",
      "Anancus orarius was first occured during Pleistocene time\n",
      "Stegomastodon primitivus was first occured during Blancan time\n",
      "Tetralophodon was first occured during Pliocene time\n",
      "Mammuthus hayi was first occured during Irvingtonian time\n",
      "Proboscidea was first occured during Pleistocene time\n",
      "Rhynchotherium blicki was first occured during Miocene time\n",
      "Stegolophodon was first occured during Middle Miocene time\n",
      "Gnathabelodon buckneri was first occured during Clarendonian time\n",
      "Mammuthus meridionalis was first occured during Early Pleistocene time\n",
      "Dibelodon andium was first occured during Pleistocene time\n",
      "Stegodon sumbaensis was first occured during Pleistocene time\n",
      "Palaeomastodon was first occured during Oligocene time\n",
      "Tetrabelodon osborni was first occured during Barstovian time\n",
      "Losodokodon losodokius was first occured during Late Oligocene time\n",
      "Stegotetrabelodon was first occured during MN 9 time\n",
      "Platybelodon loomisi was first occured during Miocene time\n",
      "Gomphotherium wimani was first occured during Miocene time\n",
      "Mastodon spenceri was first occured during MN 4 time\n",
      "Primelephas korotorensis was first occured during Zanclean time\n",
      "Mammuthus primigenius was first occured during Late Pleistocene time\n",
      "Numidotherium koholense was first occured during Ypresian time\n",
      "Amebelodontinae was first occured during Serravallian time\n",
      "Mastodontidae was first occured during Burdigalian time\n",
      "Gomphotherium angustidens was first occured during Tortonian time\n"
     ]
    }
   ],
   "source": [
    "Proboscidea = makeProboscideaDict2(\"/home/eeb177-student/Desktop/eeb-177/eeb-177-final-project/data_file/proboscidea.csv\")\n",
    "species = list(Proboscidea.keys())\n",
    "for species in Proboscidea.keys():\n",
    "#get the family in species\n",
    "    early_interval = Proboscidea[species]\n",
    "    print(species + \" was first occured during \" + early_interval + \" time\" )"
   ]
  },
  {
   "cell_type": "markdown",
   "metadata": {
    "collapsed": true
   },
   "source": [
    "\n",
    "### Output the function to file"
   ]
  },
  {
   "cell_type": "code",
   "execution_count": null,
   "metadata": {
    "collapsed": false
   },
   "outputs": [],
   "source": [
    "import sys\n",
    "sys.stdout=open(\"/home/eeb177-student/Desktop/eeb-177/eeb-177-final-project/2nd_function_output.txt\", \"w\")\n",
    "\n",
    "Proboscidea = makeProboscideaDict2(\"data_file/proboscidea.csv\")\n",
    "species = list(Proboscidea.keys())\n",
    "for species in Proboscidea.keys():\n",
    "#get the family in species\n",
    "    early_interval = Proboscidea[species]\n",
    "    print(species + \" was first occured during \" + early_interval + \" time\" )\n",
    "\n",
    "sys.stdout.close()\n",
    "       "
   ]
  },
  {
   "cell_type": "code",
   "execution_count": 4,
   "metadata": {
    "collapsed": false
   },
   "outputs": [
    {
     "ename": "SyntaxError",
     "evalue": "invalid syntax (<ipython-input-4-13ddd99bfc7e>, line 1)",
     "output_type": "error",
     "traceback": [
      "\u001b[0;36m  File \u001b[0;32m\"<ipython-input-4-13ddd99bfc7e>\"\u001b[0;36m, line \u001b[0;32m1\u001b[0m\n\u001b[0;31m    ProboscideaDict[Eritherium azzouzorum]\u001b[0m\n\u001b[0m                                        ^\u001b[0m\n\u001b[0;31mSyntaxError\u001b[0m\u001b[0;31m:\u001b[0m invalid syntax\n"
     ]
    }
   ],
   "source": [
    "Probo"
   ]
  },
  {
   "cell_type": "code",
   "execution_count": null,
   "metadata": {
    "collapsed": true
   },
   "outputs": [],
   "source": []
  }
 ],
 "metadata": {
  "anaconda-cloud": {},
  "kernelspec": {
   "display_name": "Python [default]",
   "language": "python",
   "name": "python3"
  },
  "language_info": {
   "codemirror_mode": {
    "name": "ipython",
    "version": 3
   },
   "file_extension": ".py",
   "mimetype": "text/x-python",
   "name": "python",
   "nbconvert_exporter": "python",
   "pygments_lexer": "ipython3",
   "version": "3.5.2"
  }
 },
 "nbformat": 4,
 "nbformat_minor": 2
}
